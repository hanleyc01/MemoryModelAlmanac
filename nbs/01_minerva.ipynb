{
 "cells": [
  {
   "cell_type": "markdown",
   "id": "337ae9c7",
   "metadata": {},
   "source": [
    "# minerva\n",
    "\n",
    "> Implementation of traditional associative memory models from Cognitive Science in the vein of *Minerva2*."
   ]
  },
  {
   "cell_type": "markdown",
   "id": "48cf7377",
   "metadata": {},
   "source": [
    "In this module we will be implementing $\\mathsf{Minerva}$ models, which are a class of associative\n",
    "memory models with deep theoretical connections to Hopfield networks. What distinguishes\n",
    "them is that they are developed expicitly for the cognitive science context as a model of human\n",
    "memory. Unifying all of these models is the tensor-based framework proposed in [Kelly, *et al.* (2017)](https://www.sciencedirect.com/science/article/pii/S0022249616301122)."
   ]
  },
  {
   "cell_type": "code",
   "execution_count": null,
   "id": "da851e7b",
   "metadata": {},
   "outputs": [],
   "source": [
    "# | default_exp minerva"
   ]
  },
  {
   "cell_type": "code",
   "execution_count": null,
   "id": "ec934f05",
   "metadata": {},
   "outputs": [],
   "source": [
    "# | hide\n",
    "from nbdev.showdoc import *"
   ]
  },
  {
   "cell_type": "code",
   "execution_count": null,
   "id": "a0f652ae",
   "metadata": {},
   "outputs": [],
   "source": [
    "# | hide\n",
    "# | export\n",
    "import equinox as eqx\n",
    "import jax\n",
    "import jax.lax as lax\n",
    "import jax.numpy as jnp\n",
    "import jax.random as jr\n",
    "import matplotlib.pyplot as plt\n",
    "import numpy as np\n",
    "from beartype import beartype as typechecker\n",
    "from einops import rearrange\n",
    "from fastcore.basics import *\n",
    "from fastcore.meta import *\n",
    "from jaxtyping import Array, Float, jaxtyped"
   ]
  },
  {
   "cell_type": "code",
   "execution_count": null,
   "id": "a8353c1b",
   "metadata": {},
   "outputs": [],
   "source": [
    "# | hide\n",
    "from torch.utils.data import DataLoader\n",
    "from torchvision.datasets import MNIST"
   ]
  },
  {
   "cell_type": "markdown",
   "id": "ce4cb482",
   "metadata": {},
   "source": [
    "# Minerva2"
   ]
  },
  {
   "cell_type": "markdown",
   "id": "de52ca76",
   "metadata": {},
   "source": [
    "Similar to Hopfield networks, the original $\\mathsf{Minerva}$ model proposed by [Hintzman (1984)](https://link.springer.com/article/10.3758/BF03202365), MINERVA2, uses integer values. The main difference is that we allow for $0$ values\n",
    "(denoting absent \"features\").\n",
    "The recall function for MINERVA2 is given by:\n",
    "$$\n",
    "\\mathcal{M}_\\mathsf{Minerva2}(\\sigma) = \\sum^N_{i=1} \\xi^i \\left[ \\frac{1}{D} \\left( \\sum^D_{j=1} \\xi^i_j \\sigma_j \\right)^3 \\right]\n",
    "$$"
   ]
  },
  {
   "cell_type": "code",
   "execution_count": null,
   "id": "b363b82f",
   "metadata": {},
   "outputs": [],
   "source": [
    "# | export\n",
    "@jaxtyped(typechecker=typechecker)\n",
    "class Minerva2(eqx.Module):\n",
    "    Xi: Float[Array, \"K D\"]  # The stored memory traces.\n",
    "    polynomial: int = 3  # The exponent to use on the similarity scores.\n",
    "\n",
    "    def sims(\n",
    "        self,\n",
    "        query_state: Float[Array, \" D\"],  # The query \"probe\"\n",
    "    ) -> Float[Array, \" D\"]:\n",
    "        \"\"\"Compute the similarities between a query probe and the stored memory traces.\"\"\"\n",
    "        return self.Xi @ query_state\n",
    "\n",
    "    @eqx.filter_jit\n",
    "    def recall(\n",
    "        self,\n",
    "        query_state: Float[Array, \" D\"],  # The query \"probe\"\n",
    "    ) -> Float[Array, \" D\"]:\n",
    "        \"\"\"Simulate recall of a query by reconstructing it as a linear\n",
    "        combination of the stored patterns.\n",
    "        \"\"\"\n",
    "        D = query_state.shape[-1]\n",
    "        sims = self.sims(query_state)\n",
    "        sims = rearrange(sims, \"d -> d 1\")\n",
    "        sims = sims**self.polynomial\n",
    "        result = jnp.sum(sims * self.Xi, axis=0)\n",
    "        result /= D \n",
    "        return result\n"
   ]
  },
  {
   "cell_type": "code",
   "execution_count": null,
   "id": "f549df2f",
   "metadata": {},
   "outputs": [
    {
     "data": {
      "text/markdown": [
       "---\n",
       "\n",
       "### Minerva2.sims\n",
       "\n",
       ">      Minerva2.sims (query_state:jaxtyping.Float[Array,'D'])\n",
       "\n",
       "*Compute the similarities between a query probe and the stored memory traces.*\n",
       "\n",
       "|    | **Type** | **Details** |\n",
       "| -- | -------- | ----------- |\n",
       "| query_state | Float[Array, 'D'] | The query \"probe\" |\n",
       "| **Returns** | **Float[Array, 'D']** |  |"
      ],
      "text/plain": [
       "---\n",
       "\n",
       "### Minerva2.sims\n",
       "\n",
       ">      Minerva2.sims (query_state:jaxtyping.Float[Array,'D'])\n",
       "\n",
       "*Compute the similarities between a query probe and the stored memory traces.*\n",
       "\n",
       "|    | **Type** | **Details** |\n",
       "| -- | -------- | ----------- |\n",
       "| query_state | Float[Array, 'D'] | The query \"probe\" |\n",
       "| **Returns** | **Float[Array, 'D']** |  |"
      ]
     },
     "execution_count": null,
     "metadata": {},
     "output_type": "execute_result"
    }
   ],
   "source": [
    "show_doc(Minerva2.sims)"
   ]
  },
  {
   "cell_type": "code",
   "execution_count": null,
   "id": "c40e1ea8",
   "metadata": {},
   "outputs": [
    {
     "data": {
      "text/markdown": [
       "---\n",
       "\n",
       "### Minerva2.recall\n",
       "\n",
       ">      Minerva2.recall (query_state:jaxtyping.Float[Array,'D'])\n",
       "\n",
       "*Simulate recall of a query by reconstructing it as a linear\n",
       "combination of the stored patterns.*\n",
       "\n",
       "|    | **Type** | **Details** |\n",
       "| -- | -------- | ----------- |\n",
       "| query_state | Float[Array, 'D'] | The query \"probe\" |\n",
       "| **Returns** | **Float[Array, 'D']** |  |"
      ],
      "text/plain": [
       "---\n",
       "\n",
       "### Minerva2.recall\n",
       "\n",
       ">      Minerva2.recall (query_state:jaxtyping.Float[Array,'D'])\n",
       "\n",
       "*Simulate recall of a query by reconstructing it as a linear\n",
       "combination of the stored patterns.*\n",
       "\n",
       "|    | **Type** | **Details** |\n",
       "| -- | -------- | ----------- |\n",
       "| query_state | Float[Array, 'D'] | The query \"probe\" |\n",
       "| **Returns** | **Float[Array, 'D']** |  |"
      ]
     },
     "execution_count": null,
     "metadata": {},
     "output_type": "execute_result"
    }
   ],
   "source": [
    "show_doc(Minerva2.recall)"
   ]
  },
  {
   "cell_type": "markdown",
   "id": "e111a861",
   "metadata": {},
   "source": [
    "MINERVA2 has a deep relationship with Hopfield networks, as they are formulated\n",
    "from the energy-based AM perspective. Implicitly operating here is an energy function\n",
    "defined as the anti-derivative of `Minerva2.recall`. "
   ]
  },
  {
   "cell_type": "code",
   "execution_count": null,
   "id": "64d7a14e",
   "metadata": {},
   "outputs": [],
   "source": [
    "#|export\n",
    "@patch\n",
    "def energy(\n",
    "    self: Minerva2, \n",
    "    query: Float[Array, \" D\"] # The query \"probe\"\n",
    "):\n",
    "    \"\"\"Compute the energy of `query`.\"\"\"\n",
    "    return -jnp.sum((1 / (self.polynomial)) * (self.Xi @ query) ** (self.polynomial))"
   ]
  },
  {
   "cell_type": "code",
   "execution_count": null,
   "id": "2844ed7b",
   "metadata": {},
   "outputs": [
    {
     "data": {
      "text/markdown": [
       "---\n",
       "\n",
       "### Minerva2.energy\n",
       "\n",
       ">      Minerva2.energy (query:jaxtyping.Float[Array,'D'])\n",
       "\n",
       "*Compute the energy of `query`.*\n",
       "\n",
       "|    | **Type** | **Details** |\n",
       "| -- | -------- | ----------- |\n",
       "| query | Float[Array, 'D'] | The query \"probe\" |"
      ],
      "text/plain": [
       "---\n",
       "\n",
       "### Minerva2.energy\n",
       "\n",
       ">      Minerva2.energy (query:jaxtyping.Float[Array,'D'])\n",
       "\n",
       "*Compute the energy of `query`.*\n",
       "\n",
       "|    | **Type** | **Details** |\n",
       "| -- | -------- | ----------- |\n",
       "| query | Float[Array, 'D'] | The query \"probe\" |"
      ]
     },
     "execution_count": null,
     "metadata": {},
     "output_type": "execute_result"
    }
   ],
   "source": [
    "show_doc(Minerva2.energy)"
   ]
  },
  {
   "cell_type": "code",
   "execution_count": null,
   "id": "c05df70f",
   "metadata": {},
   "outputs": [],
   "source": [
    "DATA_DIR = \"../data/mnist\"\n",
    "\n",
    "pxw, pxh = 28, 28\n",
    "\n",
    "\n",
    "def transform(data):\n",
    "    data = np.array(data, dtype=jnp.float64)\n",
    "    data = rearrange(data, \"w h -> (w h)\")\n",
    "    data[data > 0.0] = 1.0\n",
    "    data[data == 0.0] = -1.0\n",
    "    return data\n",
    "\n",
    "\n",
    "mnist_train = MNIST(DATA_DIR, train=True, transform=transform)\n",
    "mnist_data_loader = DataLoader(mnist_train, batch_size=128, shuffle=True)\n",
    "mnist_it = iter(mnist_data_loader)\n",
    "mnist_data, _ = next(mnist_it)"
   ]
  },
  {
   "cell_type": "code",
   "execution_count": null,
   "id": "e4ea7914",
   "metadata": {},
   "outputs": [
    {
     "data": {
      "image/png": "[encoded data removed]",
      "text/plain": [
       "<Figure size 640x480 with 1 Axes>"
      ]
     },
     "metadata": {},
     "output_type": "display_data"
    }
   ],
   "source": [
    "def show_im(im: Float[Array, \" WH\"], title: str = \"\") -> None:\n",
    "    im = rearrange(im, \"(w h) -> w h\", w=pxw, h=pxh)\n",
    "    plt.imshow(im)\n",
    "    plt.title(title)\n",
    "    plt.xticks([])\n",
    "    plt.yticks([])\n",
    "\n",
    "\n",
    "show_im(mnist_data[1], title=\"Testing whether the transform is correct\")"
   ]
  },
  {
   "cell_type": "code",
   "execution_count": null,
   "id": "de9e5c0d",
   "metadata": {},
   "outputs": [
    {
     "name": "stderr",
     "output_type": "stream",
     "text": [
      "ERROR:2025-09-09 15:32:44,038:jax._src.xla_bridge:487: Jax plugin configuration error: Exception when calling jax_plugins.xla_cuda12.initialize()\n",
      "Traceback (most recent call last):\n",
      "  File \"/home/pop-harrier/Documents/Cogsci/MemoryModelAlmanac/.venv/lib/python3.13/site-packages/jax/_src/xla_bridge.py\", line 485, in discover_pjrt_plugins\n",
      "    plugin_module.initialize()\n",
      "    ~~~~~~~~~~~~~~~~~~~~~~~~^^\n",
      "  File \"/home/pop-harrier/Documents/Cogsci/MemoryModelAlmanac/.venv/lib/python3.13/site-packages/jax_plugins/xla_cuda12/__init__.py\", line 328, in initialize\n",
      "    _check_cuda_versions(raise_on_first_error=True)\n",
      "    ~~~~~~~~~~~~~~~~~~~~^^^^^^^^^^^^^^^^^^^^^^^^^^^\n",
      "  File \"/home/pop-harrier/Documents/Cogsci/MemoryModelAlmanac/.venv/lib/python3.13/site-packages/jax_plugins/xla_cuda12/__init__.py\", line 285, in _check_cuda_versions\n",
      "    local_device_count = cuda_versions.cuda_device_count()\n",
      "RuntimeError: jaxlib/cuda/versions_helpers.cc:113: operation cuInit(0) failed: CUDA_ERROR_UNKNOWN\n",
      "WARNING:2025-09-09 15:32:44,042:jax._src.xla_bridge:864: An NVIDIA GPU may be present on this machine, but a CUDA-enabled jaxlib is not installed. Falling back to cpu.\n"
     ]
    },
    {
     "data": {
      "image/png": "[encoded data removed]",
      "text/plain": [
       "<Figure size 640x480 with 1 Axes>"
      ]
     },
     "metadata": {},
     "output_type": "display_data"
    }
   ],
   "source": [
    "def mask(\n",
    "    state: Float[Array, \" D\"], pct_mask: float = 0.3, key: jax.Array = jr.PRNGKey(0)\n",
    ") -> Float[Array, \" D\"]:\n",
    "    prange = np.array([pct_mask, 1-pct_mask])\n",
    "    return state * jr.choice(key, np.array([-1, 1]), p=prange, shape=state.shape)\n",
    "\n",
    "\n",
    "Xi = jnp.array(mnist_data[:7])\n",
    "min2 = Minerva2(Xi, polynomial=3)\n",
    "query = Xi[1]\n",
    "masked_query = mask(query)\n",
    "show_im(masked_query, \"Masked Query\")"
   ]
  },
  {
   "cell_type": "markdown",
   "id": "c20e9c0c",
   "metadata": {},
   "source": [
    "For our first test, we will simply show that it *can* recall:"
   ]
  },
  {
   "cell_type": "code",
   "execution_count": null,
   "id": "d24914cf",
   "metadata": {},
   "outputs": [
    {
     "data": {
      "image/png": "[encoded data removed]",
      "text/plain": [
       "<Figure size 640x480 with 1 Axes>"
      ]
     },
     "metadata": {},
     "output_type": "display_data"
    }
   ],
   "source": [
    "recalled_value = min2.recall(masked_query)\n",
    "show_im(recalled_value, \"Recalled Value\")"
   ]
  },
  {
   "cell_type": "markdown",
   "id": "d89e40a1",
   "metadata": {},
   "source": [
    "Intuitively we can see that the value $4$ is *preferred* as the most similar value. However, we also another\n",
    "interesting property of MINERVA2 compared to Hopfield networks. Rather than asynchronously updating\n",
    "random bits in the query state, we rather form recalled values as weighted sums of the stored traces,\n",
    "where the weight is the correlation between the query provided and the patterns.\n",
    "\n",
    "We can also compare the energy of the initial state and the final state:"
   ]
  },
  {
   "cell_type": "code",
   "execution_count": null,
   "id": "9d472517",
   "metadata": {},
   "outputs": [
    {
     "data": {
      "text/plain": [
       "Array(-1.8811876e+07, dtype=float32)"
      ]
     },
     "execution_count": null,
     "metadata": {},
     "output_type": "execute_result"
    }
   ],
   "source": [
    "initial_energy = min2.energy(masked_query)\n",
    "initial_energy"
   ]
  },
  {
   "cell_type": "code",
   "execution_count": null,
   "id": "e88e9308",
   "metadata": {},
   "outputs": [
    {
     "data": {
      "text/plain": [
       "Array(-1.2777563e+23, dtype=float32)"
      ]
     },
     "execution_count": null,
     "metadata": {},
     "output_type": "execute_result"
    }
   ],
   "source": [
    "final_energy = min2.energy(recalled_value)\n",
    "final_energy"
   ]
  },
  {
   "cell_type": "code",
   "execution_count": null,
   "id": "effb9fb7",
   "metadata": {},
   "outputs": [
    {
     "data": {
      "image/png": "[encoded data removed]",
      "text/plain": [
       "<Figure size 640x480 with 1 Axes>"
      ]
     },
     "metadata": {},
     "output_type": "display_data"
    }
   ],
   "source": [
    "initial_energy = min2.energy(masked_query)\n",
    "final_energy = min2.energy(recalled_value)\n",
    "energies = [initial_energy, final_energy]\n",
    "plt.plot(energies, color=\"black\", linestyle=\"--\")\n",
    "plt.xticks([])\n",
    "plt.ylabel(\"Energy\")\n",
    "plt.title(\"Energy of the initial query and the final query\")\n",
    "plt.plot(0, initial_energy, \"bo\", label=\"Initial energy\")\n",
    "plt.plot(1, final_energy, \"ro\", label=\"Final energy\")\n",
    "plt.grid(True, alpha=0.3)\n",
    "plt.legend()\n",
    "plt.show()"
   ]
  },
  {
   "cell_type": "markdown",
   "id": "d29b72c5",
   "metadata": {},
   "source": [
    "Another interesting thing about Minerva2 recall is that while it is normalized by the dimensionality of the stored\n",
    "patterns $D$, we can normalize it by more familiar methods. For example, if we instead normalize recalled patterns\n",
    "using $\\text{sgn}$, we get near-perfect recall (and near identical performance to DAM models withs single-shot recall)."
   ]
  },
  {
   "cell_type": "code",
   "execution_count": null,
   "id": "e8d839ba",
   "metadata": {},
   "outputs": [
    {
     "data": {
      "image/png": "[encoded data removed]",
      "text/plain": [
       "<Figure size 640x480 with 1 Axes>"
      ]
     },
     "metadata": {},
     "output_type": "display_data"
    }
   ],
   "source": [
    "normalized_recalled_value = jnp.sign(recalled_value)\n",
    "show_im(normalized_recalled_value, r\"Normalized Recalled Value using $\\text{sgn}$\")"
   ]
  },
  {
   "cell_type": "markdown",
   "id": "067474c4",
   "metadata": {},
   "source": [
    "### Iterative Recall\n",
    "\n",
    "We can think of the single-shot recall performed by Minerva2 as a \"collapsed\" asynchronous recall which is performed over the indices\n",
    "$i = 1, \\dots, D$, where $D$ is the dimensionality of the pattern vectors. Hintzman, however, notes that we might also want to perform\n",
    "iterated recall similar to the element-wise asynchronous recall of Hopfield networks, except updating each $i$ every single\n",
    "time. Whenever we do not normalize the recalled value with $\\text{sgn}$, we do not get very meaningful results:"
   ]
  },
  {
   "cell_type": "code",
   "execution_count": null,
   "id": "6bb7ee20",
   "metadata": {},
   "outputs": [],
   "source": [
    "#|export\n",
    "@patch\n",
    "def iterative_recall(\n",
    "    self: Minerva2,\n",
    "    query: Float[Array, \" D\"],  # The query \"probe\"\n",
    "    nsteps: int = 200,  # How many iterations you want to perform\n",
    "    normalize_with_sgn: bool = False, # Whether or not to normalize the recalled value with `jnp.sign`.\n",
    ") -> None:\n",
    "    \"\"\"Iteratively perform recall on a query state.\"\"\"\n",
    "    D = query.shape[-1]\n",
    "\n",
    "    def update_step(query, _i):\n",
    "        updated_query_state = self.recall(query)\n",
    "        if normalize_with_sgn:\n",
    "            updated_query_state = jnp.sign(updated_query_state)\n",
    "        updated_energy = self.energy(updated_query_state)\n",
    "        return (updated_query_state, (updated_query_state, updated_energy))\n",
    "\n",
    "    final_query_state, (frames, energies) = lax.scan(\n",
    "        update_step, query, np.arange(nsteps)\n",
    "    )\n",
    "    return final_query_state, (frames, energies)\n"
   ]
  },
  {
   "cell_type": "code",
   "execution_count": null,
   "id": "3d026d16",
   "metadata": {},
   "outputs": [
    {
     "data": {
      "text/markdown": [
       "---\n",
       "\n",
       "### Minerva2.iterative_recall\n",
       "\n",
       ">      Minerva2.iterative_recall (query:jaxtyping.Float[Array,'D'],\n",
       ">                                 nsteps:int=200, normalize_with_sgn:bool=False)\n",
       "\n",
       "*Iteratively perform recall on a query state.*\n",
       "\n",
       "|    | **Type** | **Default** | **Details** |\n",
       "| -- | -------- | ----------- | ----------- |\n",
       "| query | Float[Array, 'D'] |  | The query \"probe\" |\n",
       "| nsteps | int | 200 | How many iterations you want to perform |\n",
       "| normalize_with_sgn | bool | False | Whether or not to normalize the recalled value with `jnp.sign`. |\n",
       "| **Returns** | **None** |  |  |"
      ],
      "text/plain": [
       "---\n",
       "\n",
       "### Minerva2.iterative_recall\n",
       "\n",
       ">      Minerva2.iterative_recall (query:jaxtyping.Float[Array,'D'],\n",
       ">                                 nsteps:int=200, normalize_with_sgn:bool=False)\n",
       "\n",
       "*Iteratively perform recall on a query state.*\n",
       "\n",
       "|    | **Type** | **Default** | **Details** |\n",
       "| -- | -------- | ----------- | ----------- |\n",
       "| query | Float[Array, 'D'] |  | The query \"probe\" |\n",
       "| nsteps | int | 200 | How many iterations you want to perform |\n",
       "| normalize_with_sgn | bool | False | Whether or not to normalize the recalled value with `jnp.sign`. |\n",
       "| **Returns** | **None** |  |  |"
      ]
     },
     "execution_count": null,
     "metadata": {},
     "output_type": "execute_result"
    }
   ],
   "source": [
    "show_doc(Minerva2.iterative_recall)"
   ]
  },
  {
   "cell_type": "code",
   "execution_count": null,
   "id": "80db4e3e",
   "metadata": {},
   "outputs": [
    {
     "data": {
      "image/png": "[encoded data removed]",
      "text/plain": [
       "<Figure size 640x480 with 1 Axes>"
      ]
     },
     "metadata": {},
     "output_type": "display_data"
    }
   ],
   "source": [
    "nsteps = 2\n",
    "final_query_state, (frames, energies) = min2.iterative_recall(\n",
    "    masked_query, nsteps=nsteps\n",
    ")\n",
    "show_im(final_query_state, title=f\"{nsteps} Recall\")"
   ]
  },
  {
   "cell_type": "code",
   "execution_count": null,
   "id": "4ecee605",
   "metadata": {},
   "outputs": [
    {
     "data": {
      "image/png": "[encoded data removed]",
      "text/plain": [
       "<Figure size 640x480 with 1 Axes>"
      ]
     },
     "metadata": {},
     "output_type": "display_data"
    }
   ],
   "source": [
    "plt.plot(energies)\n",
    "plt.title(f\"Energy, {nsteps} iterations\")\n",
    "plt.xlabel(\"Iteration\")\n",
    "plt.ylabel(\"Energy\")\n",
    "plt.grid(True, alpha=0.3)\n",
    "plt.show()"
   ]
  },
  {
   "cell_type": "markdown",
   "id": "7c27150e",
   "metadata": {},
   "source": [
    "There is a decrease in energy, but the recalled trace is not at all close to our desired pattern (a handwritten $4$). If we do not\n",
    "normalize the value at the end, however, then we get exploding values to $\\infty$ or $\\text{NaN}$ (undefined values), as we can see with the following:"
   ]
  },
  {
   "cell_type": "code",
   "execution_count": null,
   "id": "eadecefe",
   "metadata": {},
   "outputs": [
    {
     "data": {
      "text/plain": [
       "Array(nan, dtype=float32)"
      ]
     },
     "execution_count": null,
     "metadata": {},
     "output_type": "execute_result"
    }
   ],
   "source": [
    "nsteps = 4\n",
    "final_query_state, (frames, energies) = min2.iterative_recall(\n",
    "    masked_query, nsteps=nsteps\n",
    ")\n",
    "final_query_state.max()"
   ]
  },
  {
   "cell_type": "markdown",
   "id": "f51cc063",
   "metadata": {},
   "source": [
    "To solve this problem, we can introduce $\\text{sgn}$ normalization into the iterated recall:"
   ]
  },
  {
   "cell_type": "code",
   "execution_count": null,
   "id": "e4d54383",
   "metadata": {},
   "outputs": [
    {
     "data": {
      "image/png": "[encoded data removed]",
      "text/plain": [
       "<Figure size 640x480 with 1 Axes>"
      ]
     },
     "metadata": {},
     "output_type": "display_data"
    }
   ],
   "source": [
    "nsteps = 10_000\n",
    "final_query_state, (frames, energies) = min2.iterative_recall(\n",
    "    masked_query, nsteps=nsteps, normalize_with_sgn=True,\n",
    ")\n",
    "show_im(final_query_state, f\"Final Query State, {nsteps} iterations, normalized with sgn\")"
   ]
  },
  {
   "cell_type": "code",
   "execution_count": null,
   "id": "072a505f",
   "metadata": {},
   "outputs": [
    {
     "data": {
      "image/png": "[encoded data removed]",
      "text/plain": [
       "<Figure size 640x480 with 1 Axes>"
      ]
     },
     "metadata": {},
     "output_type": "display_data"
    }
   ],
   "source": [
    "plt.plot(energies)\n",
    "plt.title(f\"Energy, {nsteps} iterations\")\n",
    "plt.xlabel(\"Iteration\")\n",
    "plt.ylabel(\"Energy\")\n",
    "plt.grid(True, alpha=0.3)\n",
    "plt.show()"
   ]
  },
  {
   "cell_type": "markdown",
   "id": "8add7f4d",
   "metadata": {},
   "source": [
    "# Holographic Minerva"
   ]
  },
  {
   "cell_type": "code",
   "execution_count": null,
   "id": "0f4aab2b",
   "metadata": {},
   "outputs": [],
   "source": [
    "# TODO: implement holographic minerva model"
   ]
  },
  {
   "cell_type": "markdown",
   "id": "a6d8f47b",
   "metadata": {},
   "source": [
    "# Vector Intersector Units"
   ]
  },
  {
   "cell_type": "code",
   "execution_count": null,
   "id": "7fe950a6",
   "metadata": {},
   "outputs": [],
   "source": [
    "# TODO: implement vector intersector units"
   ]
  },
  {
   "cell_type": "code",
   "execution_count": null,
   "id": "0cf2217e",
   "metadata": {},
   "outputs": [],
   "source": [
    "# | hide\n",
    "import nbdev\n",
    "\n",
    "nbdev.nbdev_export()"
   ]
  }
 ],
 "metadata": {
  "kernelspec": {
   "display_name": ".venv",
   "language": "python",
   "name": "python3"
  },
  "language_info": {
   "name": "python",
   "version": "3.13.7"
  }
 },
 "nbformat": 4,
 "nbformat_minor": 5
}
