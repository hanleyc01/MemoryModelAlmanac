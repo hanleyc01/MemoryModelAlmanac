{
 "cells": [
  {
   "cell_type": "markdown",
   "id": "337ae9c7",
   "metadata": {},
   "source": [
    "# bidirectional\n",
    "\n",
    "> Implementation of bidirectional associative memories."
   ]
  },
  {
   "cell_type": "markdown",
   "id": "18ae5505",
   "metadata": {},
   "source": [
    "Bidirectional Associative Memories are a kind of recurrent neural architecture which allows for *bidirectional* recall of stored associated\n",
    "memory patterns. In particular, we will be implementing the Nonlinear Dynamic Recurrent Associative Memory for Learning Bipolar and Nonpolar\n",
    "Correlated Patterns (NDRAM) -- a mouthful -- as well as a Bidirectional Heteroassociative Memory (BHM) based on NDRAM."
   ]
  },
  {
   "cell_type": "code",
   "execution_count": 1,
   "id": "da851e7b",
   "metadata": {},
   "outputs": [],
   "source": [
    "# | default_exp bidirectional"
   ]
  },
  {
   "cell_type": "code",
   "execution_count": 2,
   "id": "76f39bd5",
   "metadata": {},
   "outputs": [],
   "source": [
    "# | hide\n",
    "from nbdev.showdoc import *"
   ]
  },
  {
   "cell_type": "code",
   "execution_count": 3,
   "id": "2f1a6e12",
   "metadata": {},
   "outputs": [],
   "source": [
    "# | hide\n",
    "# | export\n",
    "import equinox as eqx\n",
    "import jax\n",
    "import jax.lax as lax\n",
    "import jax.numpy as jnp\n",
    "import jax.random as jr\n",
    "import numpy as np\n",
    "from beartype import beartype as typechecker\n",
    "from beartype import typing as T\n",
    "from fastcore.basics import *\n",
    "from fastcore.meta import *\n",
    "from jaxtyping import Array, Float, jaxtyped\n",
    "from einops import rearrange"
   ]
  },
  {
   "cell_type": "code",
   "execution_count": 4,
   "id": "64ca0571",
   "metadata": {},
   "outputs": [],
   "source": [
    "# | hide\n",
    "import matplotlib.pyplot as plt\n",
    "from torch.utils.data import DataLoader\n",
    "from torchvision.datasets import MNIST\n",
    "from PIL import Image"
   ]
  },
  {
   "cell_type": "code",
   "execution_count": 5,
   "id": "4b134f8d",
   "metadata": {},
   "outputs": [],
   "source": [
    "# | export\n",
    "@jaxtyped(typechecker=typechecker)\n",
    "class NDRAM(eqx.Module):\n",
    "    \"\"\"Nonlinear Dynamic Recurrent Associative Memory for Learning Bipolar and Nonpolar Correlated Patterns.\"\"\"\n",
    "\n",
    "    W: Float[Array, \"D D\"]  # The weights of the network\n",
    "    lr: float  # Learning rate parameter\n",
    "    tr: float  # Transmission parameter\n",
    "\n",
    "    @classmethod\n",
    "    @jaxtyped(typechecker=typechecker)\n",
    "    def init(\n",
    "        cls,\n",
    "        pattern_dim: int,  # The dimension of the patterns the network will be learning and recalling.\n",
    "        lr: float,  # The learning rate for the weight update step.\n",
    "        transmission: float,  # Transmission parameter.\n",
    "    ):\n",
    "        \"\"\"Initialize an empty NDRAM network.\"\"\"\n",
    "        return cls(\n",
    "            W=jnp.zeros((pattern_dim, pattern_dim)), lr=lr, transmission=transmission\n",
    "        )\n",
    "\n",
    "    @staticmethod\n",
    "    @jaxtyped(typechecker=typechecker)\n",
    "    def weight_update(\n",
    "        weights: Float[Array, \"D D\"],  # The weights of the network.\n",
    "        query0: Float[Array, \" D\"],  # The initial query state time t = 0\n",
    "        queryt: Float[Array, \" D\"],  # The current query state at time t\n",
    "        lr: float,  # The learning rate parameter\n",
    "    ):\n",
    "        \"\"\"Perform a weight update.\"\"\"\n",
    "        query0 = rearrange(query0, \"d -> d 1\")\n",
    "        queryt = rearrange(queryt, \"d -> d 1\")\n",
    "        return weights + (lr * ((query0 @ query0.T) - (queryt @ queryt.T)))\n",
    "\n",
    "    @staticmethod\n",
    "    @jaxtyped(typechecker=typechecker)\n",
    "    def query_update(\n",
    "        weights: Float[Array, \"D D\"],  # The weights of the network\n",
    "        query: Float[Array, \" D\"],  # The query state\n",
    "        transmission: float,  # The transmission parameter\n",
    "        num_transmissions=1,  # Number of transmissions to perform.\n",
    "    ):\n",
    "        \"\"\"Perform a query update.\"\"\"\n",
    "\n",
    "        def update_step(query, _i):\n",
    "            acts = weights @ query\n",
    "\n",
    "            def f(a_i):\n",
    "                \"\"\"Transmission function on activations.\"\"\"\n",
    "                gt_1 = a_i > 1.0\n",
    "                lt_n1 = a_i < -1.0\n",
    "                return lax.cond(\n",
    "                    gt_1,\n",
    "                    lambda: 1.0,\n",
    "                    lambda: lax.cond(\n",
    "                        lt_n1,\n",
    "                        lambda: -1.0,\n",
    "                        lambda: ((transmission + 1) * a_i) - (transmission * (a_i**3)),\n",
    "                    ),\n",
    "                )\n",
    "\n",
    "            queryt = jax.vmap(f)(acts)\n",
    "            return queryt, queryt\n",
    "\n",
    "        iters = np.arange(num_transmissions)\n",
    "        final_act, _ = lax.scan(update_step, query, iters)\n",
    "        return final_act\n",
    "\n",
    "    @eqx.filter_jit\n",
    "    @jaxtyped(typechecker=typechecker)\n",
    "    def __call__(self, query: Float[Array, \" D\"]) -> Float[Array, \" D\"]:\n",
    "        \"\"\"Perform one step recall.\"\"\"\n",
    "        return NDRAM.query_update(self.W, query, self.tr)"
   ]
  },
  {
   "cell_type": "code",
   "execution_count": 6,
   "id": "40bb43f7",
   "metadata": {},
   "outputs": [],
   "source": [
    "# | export\n",
    "@jaxtyped(typechecker=typechecker)\n",
    "def fit_ndram(\n",
    "    Xi: Float[Array, \"N D\"],  # The patterns to learn\n",
    "    lr: float,  # The learning rate parameter\n",
    "    tr: float,  # The transmission rate parameter\n",
    "    num_transmissions: int = 1,  # Optional, number of transmission steps to undertake. Default: `1`.\n",
    "    nsteps: int = 2_000,  # Number of training steps to undertake. Default: `2_000`.\n",
    "    key: jax.Array = jr.PRNGKey(0),  # Optional, default `jr.PRNGKey(0)`.\n",
    "):\n",
    "    \"\"\"Fit an NDRAM model to the dataset, returning a trained model.\"\"\"\n",
    "    are_iters = nsteps is None\n",
    "    D = Xi.shape[-1]\n",
    "    init_W = jnp.zeros(shape=(D, D), dtype=jnp.float32)\n",
    "\n",
    "    def scan_update_step(W, query):\n",
    "        query_t = NDRAM.query_update(\n",
    "            W, query, transmission=tr, num_transmissions=num_transmissions\n",
    "        )\n",
    "        W_t = NDRAM.weight_update(W, query0=query, queryt=query_t, lr=lr)\n",
    "        return (W_t, W_t)\n",
    "\n",
    "    prototypes = jr.choice(key, Xi, shape=(nsteps,))\n",
    "    final_W, Ws = lax.scan(scan_update_step, init=init_W, xs=prototypes)\n",
    "    return NDRAM(final_W, lr=lr, tr=tr), None\n"
   ]
  },
  {
   "cell_type": "code",
   "execution_count": 7,
   "id": "7e07eb59",
   "metadata": {},
   "outputs": [
    {
     "data": {
      "text/markdown": [
       "---\n",
       "\n",
       "### NDRAM.init\n",
       "\n",
       ">      NDRAM.init (cls, pattern_dim:int, lr:float, transmission:float)\n",
       "\n",
       "*Initialize an empty NDRAM network.*\n",
       "\n",
       "|    | **Type** | **Details** |\n",
       "| -- | -------- | ----------- |\n",
       "| cls |  |  |\n",
       "| pattern_dim | int | The dimension of the patterns the network will be learning and recalling. |\n",
       "| lr | float | The learning rate for the weight update step. |\n",
       "| transmission | float | Transmission parameter. |"
      ],
      "text/plain": [
       "---\n",
       "\n",
       "### NDRAM.init\n",
       "\n",
       ">      NDRAM.init (cls, pattern_dim:int, lr:float, transmission:float)\n",
       "\n",
       "*Initialize an empty NDRAM network.*\n",
       "\n",
       "|    | **Type** | **Details** |\n",
       "| -- | -------- | ----------- |\n",
       "| cls |  |  |\n",
       "| pattern_dim | int | The dimension of the patterns the network will be learning and recalling. |\n",
       "| lr | float | The learning rate for the weight update step. |\n",
       "| transmission | float | Transmission parameter. |"
      ]
     },
     "execution_count": 7,
     "metadata": {},
     "output_type": "execute_result"
    }
   ],
   "source": [
    "show_doc(NDRAM.init)"
   ]
  },
  {
   "cell_type": "code",
   "execution_count": 8,
   "id": "6a23f6f3",
   "metadata": {},
   "outputs": [
    {
     "data": {
      "text/markdown": [
       "---\n",
       "\n",
       "### fit_ndram\n",
       "\n",
       ">      fit_ndram (Xi:jaxtyping.Float[Array,'ND'], lr:float, tr:float,\n",
       ">                 num_transmissions:int=1, nsteps:int=2000,\n",
       ">                 key:jax.Array=Array([0, 0], dtype=uint32))\n",
       "\n",
       "*Fit an NDRAM model to the dataset, returning a trained model.*\n",
       "\n",
       "|    | **Type** | **Default** | **Details** |\n",
       "| -- | -------- | ----------- | ----------- |\n",
       "| Xi | Float[Array, 'N D'] |  | The patterns to learn |\n",
       "| lr | float |  | The learning rate parameter |\n",
       "| tr | float |  | The transmission rate parameter |\n",
       "| num_transmissions | int | 1 | Optional, number of transmission steps to undertake. Default: `1`. |\n",
       "| nsteps | int | 2000 | Number of training steps to undertake. Default: `2_000`. |\n",
       "| key | Array | [0 0] | Optional, default `jr.PRNGKey(0)`. |"
      ],
      "text/plain": [
       "---\n",
       "\n",
       "### fit_ndram\n",
       "\n",
       ">      fit_ndram (Xi:jaxtyping.Float[Array,'ND'], lr:float, tr:float,\n",
       ">                 num_transmissions:int=1, nsteps:int=2000,\n",
       ">                 key:jax.Array=Array([0, 0], dtype=uint32))\n",
       "\n",
       "*Fit an NDRAM model to the dataset, returning a trained model.*\n",
       "\n",
       "|    | **Type** | **Default** | **Details** |\n",
       "| -- | -------- | ----------- | ----------- |\n",
       "| Xi | Float[Array, 'N D'] |  | The patterns to learn |\n",
       "| lr | float |  | The learning rate parameter |\n",
       "| tr | float |  | The transmission rate parameter |\n",
       "| num_transmissions | int | 1 | Optional, number of transmission steps to undertake. Default: `1`. |\n",
       "| nsteps | int | 2000 | Number of training steps to undertake. Default: `2_000`. |\n",
       "| key | Array | [0 0] | Optional, default `jr.PRNGKey(0)`. |"
      ]
     },
     "execution_count": 8,
     "metadata": {},
     "output_type": "execute_result"
    }
   ],
   "source": [
    "show_doc(fit_ndram)"
   ]
  },
  {
   "cell_type": "markdown",
   "id": "fe24928f",
   "metadata": {},
   "source": [
    "Fit uses the two equations which define the dynamics of NDRAM networks: the weight update rule and the query update rule (1-2) (respectively).\n",
    "The weight update rule is given by:\n",
    "$$\n",
    "W_{(k+1)} = W_{(k)} + \\eta \\left( x_{(0)} x_{(0)}^T - x_{(t)} x_{(t)}^T \\right),\n",
    "\\tag{1}\n",
    "$$\n",
    "where $\\eta$ is the learning rate parameter, $W_{(k)}$ denotes the weight matrix at time step $k$, $x_{(0)}$ denotes the query buffer at\n",
    "the initial time step $t = 0$, and $x_{(t)}$ is the current query buffer at time step $t$.\n",
    "\n",
    "The query update rule is given by:\n",
    "$$\n",
    "\\begin{align*}\n",
    "x_i^{(t+1)} &= f(a_i), \\\\\n",
    "\\text{where}~f(a_i) &= \\begin{cases}\n",
    "    1,&~\\text{if}~a_i > 1,\\\\\n",
    "    -1,&~\\text{if}~a_i < -1, \\\\\n",
    "    (\\delta + 1)a_i - \\delta a_i^3,&~\\text{otherwise},\n",
    "\\end{cases}\n",
    "\\end{align*}\n",
    "\\tag{2}\n",
    "$$\n",
    "with unfortunately a flipped notation here of $x_i^{(t)}$ denoting the $i$'th element of the query buffer at time $t$, and $\\delta$ the *transmission rate*. These are given by\n",
    "the following methods:"
   ]
  },
  {
   "cell_type": "code",
   "execution_count": 9,
   "id": "b13347b6",
   "metadata": {},
   "outputs": [
    {
     "data": {
      "text/markdown": [
       "---\n",
       "\n",
       "### NDRAM.weight_update\n",
       "\n",
       ">      NDRAM.weight_update (weights:jaxtyping.Float[Array,'DD'],\n",
       ">                           query0:jaxtyping.Float[Array,'D'],\n",
       ">                           queryt:jaxtyping.Float[Array,'D'], lr:float)\n",
       "\n",
       "*Perform a weight update.*\n",
       "\n",
       "|    | **Type** | **Details** |\n",
       "| -- | -------- | ----------- |\n",
       "| weights | Float[Array, 'D D'] | The weights of the network. |\n",
       "| query0 | Float[Array, 'D'] | The initial query state time t = 0 |\n",
       "| queryt | Float[Array, 'D'] | The current query state at time t |\n",
       "| lr | float | The learning rate parameter |"
      ],
      "text/plain": [
       "---\n",
       "\n",
       "### NDRAM.weight_update\n",
       "\n",
       ">      NDRAM.weight_update (weights:jaxtyping.Float[Array,'DD'],\n",
       ">                           query0:jaxtyping.Float[Array,'D'],\n",
       ">                           queryt:jaxtyping.Float[Array,'D'], lr:float)\n",
       "\n",
       "*Perform a weight update.*\n",
       "\n",
       "|    | **Type** | **Details** |\n",
       "| -- | -------- | ----------- |\n",
       "| weights | Float[Array, 'D D'] | The weights of the network. |\n",
       "| query0 | Float[Array, 'D'] | The initial query state time t = 0 |\n",
       "| queryt | Float[Array, 'D'] | The current query state at time t |\n",
       "| lr | float | The learning rate parameter |"
      ]
     },
     "execution_count": 9,
     "metadata": {},
     "output_type": "execute_result"
    }
   ],
   "source": [
    "show_doc(NDRAM.weight_update)"
   ]
  },
  {
   "cell_type": "code",
   "execution_count": 10,
   "id": "b0aa69b7",
   "metadata": {},
   "outputs": [
    {
     "data": {
      "text/markdown": [
       "---\n",
       "\n",
       "### NDRAM.query_update\n",
       "\n",
       ">      NDRAM.query_update (weights:jaxtyping.Float[Array,'DD'],\n",
       ">                          query:jaxtyping.Float[Array,'D'], transmission:float,\n",
       ">                          num_transmissions=1)\n",
       "\n",
       "*Perform a query update.*\n",
       "\n",
       "|    | **Type** | **Default** | **Details** |\n",
       "| -- | -------- | ----------- | ----------- |\n",
       "| weights | Float[Array, 'D D'] |  | The weights of the network |\n",
       "| query | Float[Array, 'D'] |  | The query state |\n",
       "| transmission | float |  | The transmission parameter |\n",
       "| num_transmissions | int | 1 | Number of transmissions to perform. |"
      ],
      "text/plain": [
       "---\n",
       "\n",
       "### NDRAM.query_update\n",
       "\n",
       ">      NDRAM.query_update (weights:jaxtyping.Float[Array,'DD'],\n",
       ">                          query:jaxtyping.Float[Array,'D'], transmission:float,\n",
       ">                          num_transmissions=1)\n",
       "\n",
       "*Perform a query update.*\n",
       "\n",
       "|    | **Type** | **Default** | **Details** |\n",
       "| -- | -------- | ----------- | ----------- |\n",
       "| weights | Float[Array, 'D D'] |  | The weights of the network |\n",
       "| query | Float[Array, 'D'] |  | The query state |\n",
       "| transmission | float |  | The transmission parameter |\n",
       "| num_transmissions | int | 1 | Number of transmissions to perform. |"
      ]
     },
     "execution_count": 10,
     "metadata": {},
     "output_type": "execute_result"
    }
   ],
   "source": [
    "show_doc(NDRAM.query_update)"
   ]
  },
  {
   "cell_type": "markdown",
   "id": "0e62542e",
   "metadata": {},
   "source": [
    "# Example"
   ]
  },
  {
   "cell_type": "code",
   "execution_count": 11,
   "id": "337542a7",
   "metadata": {},
   "outputs": [],
   "source": [
    "DATA_DIR = \"../data/mnist\"\n",
    "\n",
    "pxw, pxh = 28, 28\n",
    "\n",
    "\n",
    "def transform(data):\n",
    "    data = np.array(data, dtype=jnp.float64)\n",
    "    data = rearrange(data, \"w h -> (w h)\")\n",
    "    data[data > 0.0] = 1.0\n",
    "    data[data == 0.0] = -1.0\n",
    "    return data\n",
    "\n",
    "\n",
    "mnist_train = MNIST(DATA_DIR, train=True, transform=transform)\n",
    "mnist_data_loader = DataLoader(mnist_train, batch_size=128, shuffle=True)\n",
    "mnist_it = iter(mnist_data_loader)\n",
    "mnist_data, _ = next(mnist_it)"
   ]
  },
  {
   "cell_type": "code",
   "execution_count": 12,
   "id": "36b981cc",
   "metadata": {},
   "outputs": [],
   "source": [
    "def mask(\n",
    "    state: Float[Array, \" D\"], pct_mask: float = 0.3, key: jax.Array = jr.PRNGKey(11)\n",
    ") -> Float[Array, \" D\"]:\n",
    "    prange = np.array([pct_mask, 1 - pct_mask])\n",
    "    return state * jr.choice(key, np.array([-1, 1]), p=prange, shape=state.shape)\n",
    "    # noise = jr.normal(key, shape=(pxh* pxw,))\n",
    "    # return query * noise\n",
    "\n",
    "\n",
    "def show_im(im: Float[Array, \" WH\"], title: str = \"\") -> None:\n",
    "    im = im * 255.0\n",
    "    im = rearrange(im, \"(w h) -> w h\", w=pxw, h=pxh)\n",
    "    plt.imshow(im)\n",
    "    plt.title(title)\n",
    "    plt.xticks([])\n",
    "    plt.yticks([])\n",
    "\n",
    "\n",
    "def show_weights(W, title=\"\"):\n",
    "    W = jax.block_until_ready(W).__array__()\n",
    "    plt.imshow(W, cmap=\"viridis\", aspect=\"auto\")\n",
    "    plt.title(title)\n",
    "    plt.xticks([])\n",
    "    plt.yticks([])\n",
    "\n",
    "\n",
    "Xi = jnp.array(mnist_data[:13])\n",
    "lr = 0.001\n",
    "tr = 0.1\n",
    "ndram, Ws = fit_ndram(Xi, lr, tr)\n",
    "# show_weights(ndram.W, \"Trained Weights\")"
   ]
  },
  {
   "cell_type": "code",
   "execution_count": 13,
   "id": "ecbb54e8",
   "metadata": {},
   "outputs": [
    {
     "data": {
      "image/png": "[encoded data removed]",
      "text/plain": [
       "<Figure size 640x480 with 1 Axes>"
      ]
     },
     "metadata": {},
     "output_type": "display_data"
    }
   ],
   "source": [
    "query = Xi[9]\n",
    "show_im(query, \"Unmasked Query\")"
   ]
  },
  {
   "cell_type": "code",
   "execution_count": 14,
   "id": "4a33652e",
   "metadata": {},
   "outputs": [
    {
     "data": {
      "image/png": "[encoded data removed]",
      "text/plain": [
       "<Figure size 640x480 with 1 Axes>"
      ]
     },
     "metadata": {},
     "output_type": "display_data"
    }
   ],
   "source": [
    "masked_query = mask(query, pct_mask=0.2, key=jr.PRNGKey(11))\n",
    "show_im(masked_query, \"Masked Query\")"
   ]
  },
  {
   "cell_type": "code",
   "execution_count": 15,
   "id": "6dab2e27",
   "metadata": {},
   "outputs": [
    {
     "data": {
      "image/png": "[encoded data removed]",
      "text/plain": [
       "<Figure size 640x480 with 1 Axes>"
      ]
     },
     "metadata": {},
     "output_type": "display_data"
    }
   ],
   "source": [
    "query1 = ndram(masked_query)\n",
    "show_im(query1, \"Recalled Value\")"
   ]
  },
  {
   "cell_type": "code",
   "execution_count": 16,
   "id": "0cf2217e",
   "metadata": {},
   "outputs": [],
   "source": [
    "# | hide\n",
    "import nbdev\n",
    "\n",
    "nbdev.nbdev_export()"
   ]
  },
  {
   "cell_type": "code",
   "execution_count": null,
   "id": "bd1e7d1b",
   "metadata": {},
   "outputs": [],
   "source": []
  }
 ],
 "metadata": {
  "kernelspec": {
   "display_name": ".venv",
   "language": "python",
   "name": "python3"
  },
  "language_info": {
   "codemirror_mode": {
    "name": "ipython",
    "version": 3
   },
   "file_extension": ".py",
   "mimetype": "text/x-python",
   "name": "python",
   "nbconvert_exporter": "python",
   "pygments_lexer": "ipython3",
   "version": "3.13.7"
  }
 },
 "nbformat": 4,
 "nbformat_minor": 5
}
