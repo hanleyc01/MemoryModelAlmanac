{
 "cells": [
  {
   "cell_type": "code",
   "execution_count": null,
   "metadata": {},
   "outputs": [],
   "source": [
    "#| hide\n",
    "from MemoryModelAlmanac.hopfield import *\n",
    "from MemoryModelAlmanac.minerva import *"
   ]
  },
  {
   "cell_type": "markdown",
   "metadata": {},
   "source": [
    "# MemoryModelAlmanac\n",
    "\n",
    "> Almanac of contemporary memory models in Cognitive Science."
   ]
  },
  {
   "cell_type": "markdown",
   "metadata": {},
   "source": [
    "In this website, we will be compiling all extant memory models in cognitive science. This project aims to be useful for \n",
    "someone new to the field of cognitive modeling of human memory, however the main purpose is for me to gain an\n",
    "encyclopedic knowledge of the different memory models which are historically relevant."
   ]
  },
  {
   "cell_type": "markdown",
   "metadata": {},
   "source": [
    "## Developer Guide"
   ]
  },
  {
   "cell_type": "markdown",
   "metadata": {},
   "source": [
    "### Install MemoryModelAlmanac in Development mode"
   ]
  },
  {
   "cell_type": "markdown",
   "metadata": {},
   "source": [
    "```sh\n",
    "# make sure MemoryModelAlmanac package is installed in development mode\n",
    "# further, make sure you have `uv` installed:\n",
    "$ uv sync\n",
    "\n",
    "# make changes under nbs/ directory\n",
    "# ...\n",
    "\n",
    "# compile to have changes apply to MemoryModelAlmanac\n",
    "$ uv run nbdev_prepare\n",
    "```"
   ]
  },
  {
   "cell_type": "markdown",
   "metadata": {},
   "source": [
    "## Usage"
   ]
  },
  {
   "cell_type": "markdown",
   "metadata": {},
   "source": [
    "### Installation"
   ]
  },
  {
   "cell_type": "markdown",
   "metadata": {},
   "source": [
    "Install latest from the GitHub [repository][repo]:\n",
    "\n",
    "```sh\n",
    "$ pip install git+https://github.com/hanleyc01/MemoryModelAlmanac.git\n",
    "```\n",
    "\n",
    "or from [conda][conda]\n",
    "\n",
    "```sh\n",
    "$ conda install -c hanleyc01 MemoryModelAlmanac\n",
    "```\n",
    "\n",
    "or from [pypi][pypi]\n",
    "\n",
    "\n",
    "```sh\n",
    "$ pip install MemoryModelAlmanac\n",
    "```\n",
    "\n",
    "\n",
    "[repo]: https://github.com/hanleyc01/MemoryModelAlmanac\n",
    "[docs]: https://hanleyc01.github.io/MemoryModelAlmanac/\n",
    "[pypi]: https://pypi.org/project/MemoryModelAlmanac/\n",
    "[conda]: https://anaconda.org/hanleyc01/MemoryModelAlmanac"
   ]
  },
  {
   "cell_type": "code",
   "execution_count": null,
   "metadata": {},
   "outputs": [],
   "source": []
  }
 ],
 "metadata": {
  "kernelspec": {
   "display_name": "python3",
   "language": "python",
   "name": "python3"
  }
 },
 "nbformat": 4,
 "nbformat_minor": 4
}
