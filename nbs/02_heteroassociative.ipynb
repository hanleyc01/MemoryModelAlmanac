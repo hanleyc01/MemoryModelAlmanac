{
 "cells": [
  {
   "cell_type": "markdown",
   "id": "904528a1",
   "metadata": {},
   "source": [
    "# heteroassociative\n",
    "\n",
    "> Sparse Distributed Memories, Kohonen (1972) and other hetero-associative memory models."
   ]
  },
  {
   "cell_type": "code",
   "execution_count": null,
   "id": "2b0b81b1",
   "metadata": {},
   "outputs": [],
   "source": [
    "# | default_exp sdm"
   ]
  },
  {
   "cell_type": "code",
   "execution_count": 5,
   "id": "b0fc0832",
   "metadata": {},
   "outputs": [],
   "source": [
    "# | hide\n",
    "from nbdev.showdoc import *"
   ]
  },
  {
   "cell_type": "code",
   "execution_count": null,
   "id": "57ae36ea",
   "metadata": {},
   "outputs": [],
   "source": [
    "# | hide\n",
    "import nbdev\n",
    "\n",
    "nbdev.nbdev_export()"
   ]
  },
  {
   "cell_type": "code",
   "execution_count": null,
   "id": "414efecc",
   "metadata": {},
   "outputs": [],
   "source": []
  }
 ],
 "metadata": {
  "kernelspec": {
   "display_name": ".venv",
   "language": "python",
   "name": "python3"
  },
  "language_info": {
   "codemirror_mode": {
    "name": "ipython",
    "version": 3
   },
   "file_extension": ".py",
   "mimetype": "text/x-python",
   "name": "python",
   "nbconvert_exporter": "python",
   "pygments_lexer": "ipython3",
   "version": "3.13.7"
  }
 },
 "nbformat": 4,
 "nbformat_minor": 5
}
