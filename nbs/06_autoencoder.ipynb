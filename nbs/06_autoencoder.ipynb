{
 "cells": [
  {
   "cell_type": "markdown",
   "id": "93417c18",
   "metadata": {},
   "source": [
    "# autoencoder\n",
    "\n",
    "> Here will implement a memory model using a variational autoencoder."
   ]
  },
  {
   "cell_type": "code",
   "execution_count": null,
   "id": "13abd76a",
   "metadata": {},
   "outputs": [],
   "source": [
    "#| default_exp core"
   ]
  },
  {
   "cell_type": "code",
   "execution_count": null,
   "id": "c457780c",
   "metadata": {},
   "outputs": [],
   "source": [
    "#| hide\n",
    "from nbdev.showdoc import *"
   ]
  },
  {
   "cell_type": "code",
   "execution_count": null,
   "id": "cfb1283c",
   "metadata": {},
   "outputs": [],
   "source": [
    "#| hide\n",
    "import nbdev; nbdev.nbdev_export()"
   ]
  },
  {
   "cell_type": "code",
   "execution_count": null,
   "id": "95529f87",
   "metadata": {},
   "outputs": [],
   "source": []
  }
 ],
 "metadata": {
  "kernelspec": {
   "display_name": "python3",
   "language": "python",
   "name": "python3"
  }
 },
 "nbformat": 4,
 "nbformat_minor": 5
}
