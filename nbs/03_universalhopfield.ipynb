{
 "cells": [
  {
   "cell_type": "markdown",
   "id": "337ae9c7",
   "metadata": {},
   "source": [
    "# universalhopfield\n",
    "\n",
    "> Implementation of the Universal Hopfield Network framework."
   ]
  },
  {
   "cell_type": "code",
   "execution_count": null,
   "id": "da851e7b",
   "metadata": {},
   "outputs": [],
   "source": [
    "#| default_exp core"
   ]
  },
  {
   "cell_type": "code",
   "execution_count": null,
   "id": "ec934f05",
   "metadata": {},
   "outputs": [],
   "source": [
    "#| hide\n",
    "from nbdev.showdoc import *"
   ]
  },
  {
   "cell_type": "code",
   "execution_count": null,
   "id": "0cf2217e",
   "metadata": {},
   "outputs": [],
   "source": [
    "#| hide\n",
    "import nbdev; nbdev.nbdev_export()"
   ]
  }
 ],
 "metadata": {
  "kernelspec": {
   "display_name": "python3",
   "language": "python",
   "name": "python3"
  }
 },
 "nbformat": 4,
 "nbformat_minor": 5
}
